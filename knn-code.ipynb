{
 "cells": [
  {
   "cell_type": "code",
   "execution_count": 1,
   "id": "f94a54db",
   "metadata": {
    "_cell_guid": "b1076dfc-b9ad-4769-8c92-a6c4dae69d19",
    "_uuid": "8f2839f25d086af736a60e9eeb907d3b93b6e0e5",
    "execution": {
     "iopub.execute_input": "2021-08-28T03:41:08.610446Z",
     "iopub.status.busy": "2021-08-28T03:41:08.609277Z",
     "iopub.status.idle": "2021-08-28T03:41:08.623935Z",
     "shell.execute_reply": "2021-08-28T03:41:08.623137Z",
     "shell.execute_reply.started": "2021-08-28T03:40:39.347151Z"
    },
    "papermill": {
     "duration": 0.029001,
     "end_time": "2021-08-28T03:41:08.624101",
     "exception": false,
     "start_time": "2021-08-28T03:41:08.595100",
     "status": "completed"
    },
    "tags": []
   },
   "outputs": [
    {
     "name": "stdout",
     "output_type": "stream",
     "text": [
      "/kaggle/input/classify-fruits/sample_submission.csv\n",
      "/kaggle/input/classify-fruits/fruits_test.csv\n",
      "/kaggle/input/classify-fruits/fruits_train.csv\n"
     ]
    }
   ],
   "source": [
    "# This Python 3 environment comes with many helpful analytics libraries installed\n",
    "# It is defined by the kaggle/python Docker image: https://github.com/kaggle/docker-python\n",
    "# For example, here's several helpful packages to load\n",
    "\n",
    "import numpy as np # linear algebra\n",
    "import pandas as pd # data processing, CSV file I/O (e.g. pd.read_csv)\n",
    "\n",
    "\n",
    "# Input data files are available in the read-only \"../input/\" directory\n",
    "# For example, running this (by clicking run or pressing Shift+Enter) will list all files under the input directory\n",
    "\n",
    "import os\n",
    "for dirname, _, filenames in os.walk('/kaggle/input'):\n",
    "    for filename in filenames:\n",
    "        print(os.path.join(dirname, filename))\n",
    "\n",
    "# You can write up to 20GB to the current directory (/kaggle/working/) that gets preserved as output when you create a version using \"Save & Run All\" \n",
    "# You can also write temporary files to /kaggle/temp/, but they won't be saved outside of the current session"
   ]
  },
  {
   "cell_type": "code",
   "execution_count": 2,
   "id": "0286e4b4",
   "metadata": {
    "execution": {
     "iopub.execute_input": "2021-08-28T03:41:08.650389Z",
     "iopub.status.busy": "2021-08-28T03:41:08.649730Z",
     "iopub.status.idle": "2021-08-28T03:41:09.847464Z",
     "shell.execute_reply": "2021-08-28T03:41:09.846518Z",
     "shell.execute_reply.started": "2021-08-28T03:40:39.359980Z"
    },
    "papermill": {
     "duration": 1.212698,
     "end_time": "2021-08-28T03:41:09.847616",
     "exception": false,
     "start_time": "2021-08-28T03:41:08.634918",
     "status": "completed"
    },
    "tags": []
   },
   "outputs": [],
   "source": [
    "from sklearn.neighbors import KNeighborsClassifier\n",
    "from sklearn.preprocessing import StandardScaler\n",
    "fruits_train = pd.read_csv(\"/kaggle/input/classify-fruits/fruits_train.csv\")\n",
    "fruits_test = pd.read_csv(\"/kaggle/input/classify-fruits/fruits_test.csv\")"
   ]
  },
  {
   "cell_type": "code",
   "execution_count": 3,
   "id": "6d22e14c",
   "metadata": {
    "execution": {
     "iopub.execute_input": "2021-08-28T03:41:09.876074Z",
     "iopub.status.busy": "2021-08-28T03:41:09.875413Z",
     "iopub.status.idle": "2021-08-28T03:41:09.878088Z",
     "shell.execute_reply": "2021-08-28T03:41:09.877573Z",
     "shell.execute_reply.started": "2021-08-28T03:40:39.377805Z"
    },
    "papermill": {
     "duration": 0.019914,
     "end_time": "2021-08-28T03:41:09.878227",
     "exception": false,
     "start_time": "2021-08-28T03:41:09.858313",
     "status": "completed"
    },
    "tags": []
   },
   "outputs": [],
   "source": [
    "x_train = fruits_train.to_numpy()\n",
    "x_train = x_train[:,1:4]\n",
    "x_test = fruits_test.to_numpy()\n",
    "x_test = x_test[:,1:4]\n",
    "y_train = fruits_train.to_numpy()\n",
    "y_train = y_train[:,4]"
   ]
  },
  {
   "cell_type": "code",
   "execution_count": 4,
   "id": "d672d785",
   "metadata": {
    "execution": {
     "iopub.execute_input": "2021-08-28T03:41:09.908609Z",
     "iopub.status.busy": "2021-08-28T03:41:09.907941Z",
     "iopub.status.idle": "2021-08-28T03:41:09.912134Z",
     "shell.execute_reply": "2021-08-28T03:41:09.911571Z",
     "shell.execute_reply.started": "2021-08-28T03:40:39.389396Z"
    },
    "papermill": {
     "duration": 0.023447,
     "end_time": "2021-08-28T03:41:09.912283",
     "exception": false,
     "start_time": "2021-08-28T03:41:09.888836",
     "status": "completed"
    },
    "tags": []
   },
   "outputs": [
    {
     "data": {
      "text/plain": [
       "array([[160. ,   7.1,   7.6],\n",
       "       [194. ,   7.2,  10.3],\n",
       "       [154. ,   7.2,   7.2],\n",
       "       [154. ,   7. ,   7.1],\n",
       "       [162. ,   7.4,   7.2],\n",
       "       [164. ,   7.2,   7. ],\n",
       "       [154. ,   7.1,   7.5],\n",
       "       [116. ,   6.1,   8.5],\n",
       "       [170. ,   7.6,   7.9],\n",
       "       [116. ,   5.9,   8.1],\n",
       "       [144. ,   6.8,   7.4],\n",
       "       [160. ,   7.5,   7.5],\n",
       "       [166. ,   6.9,   7.3],\n",
       "       [142. ,   7.6,   7.8],\n",
       "       [156. ,   7.4,   7.4],\n",
       "       [116. ,   6. ,   7.5],\n",
       "       [356. ,   9.2,   9.2],\n",
       "       [152. ,   6.5,   8.5],\n",
       "       [164. ,   7.3,   7.7],\n",
       "       [162. ,   7.5,   7.1],\n",
       "       [158. ,   7.1,   7.5],\n",
       "       [140. ,   7.3,   7.1],\n",
       "       [186. ,   7.2,   9.2],\n",
       "       [174. ,   7.3,  10.1],\n",
       "       [180. ,   8. ,   6.8],\n",
       "       [168. ,   7.5,   7.6],\n",
       "       [216. ,   7.3,  10.2],\n",
       "       [160. ,   7. ,   7.4],\n",
       "       [172. ,   7.1,   7.6],\n",
       "       [140. ,   6.7,   7.1],\n",
       "       [180. ,   7.6,   8.2],\n",
       "       [362. ,   9.6,   9.2],\n",
       "       [342. ,   9. ,   9.4],\n",
       "       [152. ,   7.6,   7.3],\n",
       "       [200. ,   7.3,  10.5],\n",
       "       [116. ,   6.3,   7.7],\n",
       "       [178. ,   7.1,   7.8],\n",
       "       [192. ,   8.4,   7.3],\n",
       "       [118. ,   5.9,   8. ],\n",
       "       [132. ,   5.8,   8.7]])"
      ]
     },
     "execution_count": 4,
     "metadata": {},
     "output_type": "execute_result"
    }
   ],
   "source": [
    "x_train"
   ]
  },
  {
   "cell_type": "code",
   "execution_count": 5,
   "id": "1f3a2a77",
   "metadata": {
    "execution": {
     "iopub.execute_input": "2021-08-28T03:41:09.939510Z",
     "iopub.status.busy": "2021-08-28T03:41:09.938738Z",
     "iopub.status.idle": "2021-08-28T03:41:09.941986Z",
     "shell.execute_reply": "2021-08-28T03:41:09.942452Z",
     "shell.execute_reply.started": "2021-08-28T03:40:39.406285Z"
    },
    "papermill": {
     "duration": 0.019646,
     "end_time": "2021-08-28T03:41:09.942624",
     "exception": false,
     "start_time": "2021-08-28T03:41:09.922978",
     "status": "completed"
    },
    "tags": []
   },
   "outputs": [
    {
     "data": {
      "text/plain": [
       "array([[118. ,   6.1,   8.1],\n",
       "       [158. ,   7.2,   7.8],\n",
       "       [120. ,   6. ,   8.4],\n",
       "       [210. ,   7.8,   8. ],\n",
       "       [156. ,   7.6,   7.5],\n",
       "       [176. ,   7.4,   7.2],\n",
       "       [154. ,   7.3,   7.3],\n",
       "       [196. ,   7.3,   9.7],\n",
       "       [130. ,   6. ,   8.2],\n",
       "       [150. ,   7.1,   7.9],\n",
       "       [172. ,   7.4,   7. ],\n",
       "       [156. ,   7.7,   7.1],\n",
       "       [190. ,   7.5,   8.1],\n",
       "       [204. ,   7.5,   9.2]])"
      ]
     },
     "execution_count": 5,
     "metadata": {},
     "output_type": "execute_result"
    }
   ],
   "source": [
    "x_test"
   ]
  },
  {
   "cell_type": "code",
   "execution_count": 6,
   "id": "fa8f1590",
   "metadata": {
    "execution": {
     "iopub.execute_input": "2021-08-28T03:41:09.970351Z",
     "iopub.status.busy": "2021-08-28T03:41:09.969542Z",
     "iopub.status.idle": "2021-08-28T03:41:09.973575Z",
     "shell.execute_reply": "2021-08-28T03:41:09.973088Z",
     "shell.execute_reply.started": "2021-08-28T03:40:39.418794Z"
    },
    "papermill": {
     "duration": 0.020153,
     "end_time": "2021-08-28T03:41:09.973713",
     "exception": false,
     "start_time": "2021-08-28T03:41:09.953560",
     "status": "completed"
    },
    "tags": []
   },
   "outputs": [
    {
     "data": {
      "text/plain": [
       "array([2., 3., 2., 1., 1., 2., 2., 3., 1., 3., 2., 1., 1., 2., 1., 3., 2.,\n",
       "       3., 1., 1., 2., 1., 3., 3., 1., 1., 3., 2., 1., 2., 2., 2., 2., 1.,\n",
       "       3., 3., 1., 1., 3., 3.])"
      ]
     },
     "execution_count": 6,
     "metadata": {},
     "output_type": "execute_result"
    }
   ],
   "source": [
    "y_train"
   ]
  },
  {
   "cell_type": "code",
   "execution_count": 7,
   "id": "0df041b4",
   "metadata": {
    "execution": {
     "iopub.execute_input": "2021-08-28T03:41:10.004484Z",
     "iopub.status.busy": "2021-08-28T03:41:10.003830Z",
     "iopub.status.idle": "2021-08-28T03:41:10.005582Z",
     "shell.execute_reply": "2021-08-28T03:41:10.006047Z",
     "shell.execute_reply.started": "2021-08-28T03:40:39.428855Z"
    },
    "papermill": {
     "duration": 0.021282,
     "end_time": "2021-08-28T03:41:10.006231",
     "exception": false,
     "start_time": "2021-08-28T03:41:09.984949",
     "status": "completed"
    },
    "tags": []
   },
   "outputs": [],
   "source": [
    "sc = StandardScaler()\n",
    "sc.fit(x_train)\n",
    "x_train = sc.transform(x_train)\n",
    "x_test = sc.transform(x_test)"
   ]
  },
  {
   "cell_type": "code",
   "execution_count": 8,
   "id": "553541ca",
   "metadata": {
    "execution": {
     "iopub.execute_input": "2021-08-28T03:41:10.031736Z",
     "iopub.status.busy": "2021-08-28T03:41:10.031138Z",
     "iopub.status.idle": "2021-08-28T03:41:10.041078Z",
     "shell.execute_reply": "2021-08-28T03:41:10.041581Z",
     "shell.execute_reply.started": "2021-08-28T03:40:39.444282Z"
    },
    "papermill": {
     "duration": 0.024108,
     "end_time": "2021-08-28T03:41:10.041748",
     "exception": false,
     "start_time": "2021-08-28T03:41:10.017640",
     "status": "completed"
    },
    "tags": []
   },
   "outputs": [
    {
     "name": "stdout",
     "output_type": "stream",
     "text": [
      "[3. 2. 3. 1. 1. 1. 1. 3. 3. 2. 1. 1. 1. 3.]\n"
     ]
    }
   ],
   "source": [
    "knn = KNeighborsClassifier(n_neighbors = 3)\n",
    "knn.fit(x_train, y_train)\n",
    "output_data = knn.predict(x_test)\n",
    "print(output_data)"
   ]
  },
  {
   "cell_type": "code",
   "execution_count": 9,
   "id": "5fb30aab",
   "metadata": {
    "execution": {
     "iopub.execute_input": "2021-08-28T03:41:10.068217Z",
     "iopub.status.busy": "2021-08-28T03:41:10.067589Z",
     "iopub.status.idle": "2021-08-28T03:41:10.079097Z",
     "shell.execute_reply": "2021-08-28T03:41:10.078592Z",
     "shell.execute_reply.started": "2021-08-28T03:40:39.460283Z"
    },
    "papermill": {
     "duration": 0.025866,
     "end_time": "2021-08-28T03:41:10.079235",
     "exception": false,
     "start_time": "2021-08-28T03:41:10.053369",
     "status": "completed"
    },
    "tags": []
   },
   "outputs": [],
   "source": [
    "modify_data = pd.DataFrame({'ID': fruits_test['Id'], 'Category': np.array(output_data)})"
   ]
  },
  {
   "cell_type": "code",
   "execution_count": 10,
   "id": "7c5c96af",
   "metadata": {
    "execution": {
     "iopub.execute_input": "2021-08-28T03:41:10.107165Z",
     "iopub.status.busy": "2021-08-28T03:41:10.106477Z",
     "iopub.status.idle": "2021-08-28T03:41:10.113293Z",
     "shell.execute_reply": "2021-08-28T03:41:10.112637Z",
     "shell.execute_reply.started": "2021-08-28T03:40:39.602161Z"
    },
    "papermill": {
     "duration": 0.022628,
     "end_time": "2021-08-28T03:41:10.113441",
     "exception": false,
     "start_time": "2021-08-28T03:41:10.090813",
     "status": "completed"
    },
    "tags": []
   },
   "outputs": [],
   "source": [
    "modify_data.to_csv('output_data.csv')"
   ]
  },
  {
   "cell_type": "code",
   "execution_count": null,
   "id": "2e672222",
   "metadata": {
    "papermill": {
     "duration": 0.011345,
     "end_time": "2021-08-28T03:41:10.136799",
     "exception": false,
     "start_time": "2021-08-28T03:41:10.125454",
     "status": "completed"
    },
    "tags": []
   },
   "outputs": [],
   "source": []
  }
 ],
 "metadata": {
  "kernelspec": {
   "display_name": "Python 3",
   "language": "python",
   "name": "python3"
  },
  "language_info": {
   "codemirror_mode": {
    "name": "ipython",
    "version": 3
   },
   "file_extension": ".py",
   "mimetype": "text/x-python",
   "name": "python",
   "nbconvert_exporter": "python",
   "pygments_lexer": "ipython3",
   "version": "3.7.10"
  },
  "papermill": {
   "default_parameters": {},
   "duration": 10.407606,
   "end_time": "2021-08-28T03:41:10.858728",
   "environment_variables": {},
   "exception": null,
   "input_path": "__notebook__.ipynb",
   "output_path": "__notebook__.ipynb",
   "parameters": {},
   "start_time": "2021-08-28T03:41:00.451122",
   "version": "2.3.3"
  }
 },
 "nbformat": 4,
 "nbformat_minor": 5
}
